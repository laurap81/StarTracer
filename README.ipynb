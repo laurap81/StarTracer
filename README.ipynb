{
 "cells": [
  {
   "cell_type": "markdown",
   "source": [
    "    .                                        .   --   .                                       .\n",
    "    .                                    .                .                                   .\n",
    "    .                                  .                    .                                 .\n",
    "    *                                 .      StarTracer      .                                *\n",
    "    .                                 .                      .                                .\n",
    "    .                                  +                    .                                 .\n",
    "    .                                                     *                                   .\n",
    "\n",
    "\n",
    "\n",
    "**StarTracer** is a library that allows to integrate star and cluster orbits with statistical sampling methods in order\n",
    "to obtain an uncertainty estimation of the traceback result. It is mainly based on\n",
    "[galpy](https://docs.galpy.org/en/v1.9.1/) which is an [astropy](https://www.astropy.org/index.html)\n",
    "[affiliated packages](https://www.astropy.org/affiliated/). StarTracer is also based on astropy,\n",
    "utilising the Table, SkyCoord, and Quantity classes."
   ],
   "metadata": {
    "collapsed": false
   }
  },
  {
   "cell_type": "markdown",
   "source": [
    "### Features\n",
    "\n",
    "The code offers two features: (i) integrating a cluster orbits, which is based on the average position and motion of its cluster members and\n",
    "(ii) integrating orbits for individual stars (independent of cluster membership). Each method comes with different statistical sampling methods\n",
    "to estimate uncertainties for the orbit integration.\n",
    "\n",
    "- For cluster orbit integration:\n",
    "  - bootstrapping over the cluster members for an average cluster orbit integration\n",
    "  - [] to be implemented: sampling from a fit to the 6D cluster distribution\n",
    "  - methods to facilitate the calculation of averages and uncertainty estimation\n",
    "\n",
    "- For stellar orbit integration:\n",
    "  - Monte Carlo-type sampling from a normal distribution based on measurement and measurement uncertainties\n",
    "  - again, methods to facilitate the calculation of averages and uncertainty estimation\n",
    "\n",
    "- For representation:\n",
    "  - Functions to visualise the resulting data (quick-check)\n",
    "\n",
    "\n",
    "This is a versioned import package that can be installed locally. This project is partly still under construction and\n",
    "will be updated accordingly."
   ],
   "metadata": {
    "collapsed": false
   }
  },
  {
   "cell_type": "markdown",
   "source": [
    "### Installation\n",
    "\n",
    "This package can be installed by cloning it and running\n",
    "\n",
    "\n",
    "```\n",
    "python3 -m pip install\n",
    "```\n",
    "\n",
    "from the top level directory, after which you can import the library to your code."
   ],
   "metadata": {
    "collapsed": false
   }
  },
  {
   "cell_type": "markdown",
   "source": [
    "### How to use StarTracer\n",
    "\n",
    "More examples can be found on the ReadTheDocs page of this project.\n",
    "[!note: insert link]\n",
    "\n",
    "1. loading in a data table and initialising a cluster based on this data:"
   ],
   "metadata": {
    "collapsed": false
   }
  },
  {
   "cell_type": "code",
   "execution_count": 14,
   "outputs": [],
   "source": [
    "from StarTracer.startracer import Cluster\n",
    "from astropy.table import Table\n",
    "import numpy as np"
   ],
   "metadata": {
    "collapsed": false,
    "ExecuteTime": {
     "end_time": "2024-01-30T14:51:15.296608Z",
     "start_time": "2024-01-30T14:51:15.266157Z"
    }
   }
  },
  {
   "cell_type": "code",
   "execution_count": 15,
   "outputs": [
    {
     "name": "stdout",
     "output_type": "stream",
     "text": [
      "           ra        dec    distance      pmra      pmdec  radial_velocity  \\\n",
      "0  285.437166 -36.976161  152.309908  5.203834 -28.030091        -2.067082   \n",
      "1  285.063548 -36.843633  156.510797  5.425838 -28.491447        -0.329137   \n",
      "2  285.133199 -37.037393  159.742322  4.580378 -27.761666        -5.692724   \n",
      "3  285.191013 -36.617811  156.414372  6.197258 -27.521295        -3.806152   \n",
      "4  285.039615 -36.946535  161.827736  6.231846 -28.214303         0.840513   \n",
      "\n",
      "   ra_error  dec_error  distance_error  pmra_error  pmdec_error  \\\n",
      "0  0.108658   0.014981        1.192325    0.149144     0.065070   \n",
      "1  0.001304   0.113041        3.041990    0.132334     0.153469   \n",
      "2  0.122690   0.161733       -1.438117    0.211193     0.054875   \n",
      "3  0.077685   0.144072        0.793261    0.030308     0.120342   \n",
      "4  0.126410   0.134211       -0.277671    0.183950     0.209726   \n",
      "\n",
      "   radial_velocity_error  \n",
      "0               0.081022  \n",
      "1               0.318714  \n",
      "2               0.183739  \n",
      "3               0.696206  \n",
      "4               0.046242  \n"
     ]
    }
   ],
   "source": [
    "cluster_data = Table.read('./StarTracer/example_data/ExampleCluster_1.fits')\n",
    "cluster = Cluster(cluster_data)\n",
    "print(cluster.data.head())"
   ],
   "metadata": {
    "collapsed": false,
    "ExecuteTime": {
     "end_time": "2024-01-30T14:51:15.307401Z",
     "start_time": "2024-01-30T14:51:15.271198Z"
    }
   }
  },
  {
   "cell_type": "markdown",
   "source": [
    "2. calculating orbits for 10 000 samples of the cluster over 10 Myr back in time for time steps of 0.1 Myr:"
   ],
   "metadata": {
    "collapsed": false
   }
  },
  {
   "cell_type": "code",
   "execution_count": 16,
   "outputs": [
    {
     "name": "stdout",
     "output_type": "stream",
     "text": [
      "type: <class 'numpy.ndarray'>, and shape of array: (7, 101, 10000)\n"
     ]
    }
   ],
   "source": [
    "sampled_cluster = cluster.sample_orbit(10, 0.1, number_of_samples=10000, direction='backward')\n",
    "integrated_orbits = sampled_cluster.get_data()\n",
    "print(f'type: {type(integrated_orbits)}, and shape of array: {np.shape(integrated_orbits)}')"
   ],
   "metadata": {
    "collapsed": false,
    "ExecuteTime": {
     "end_time": "2024-01-30T14:51:22.161026Z",
     "start_time": "2024-01-30T14:51:15.300207Z"
    }
   }
  },
  {
   "cell_type": "markdown",
   "source": [
    "This returns a class `SampledCluster` that stores the array with the resulting orbits. They can be accessed with the `.get_data()` method and customarily post-processed.\n",
    "\n",
    "However, this class also offers several methods to easily calculate the most commonly used average and uncertainties for the integrated orbits.\n",
    "See the [documentation]() for a full list of the available methods. Each of the methods adds the calculated values as columns for each parameter\n",
    "to a 'summary_dataframe' ([pandas.DataFrame](https://pandas.pydata.org/docs/reference/frame.html))."
   ],
   "metadata": {
    "collapsed": false
   }
  },
  {
   "cell_type": "code",
   "execution_count": 17,
   "outputs": [
    {
     "name": "stdout",
     "output_type": "stream",
     "text": [
      "Index(['t', 'X_median', 'Y_median', 'Z_median', 'U_median', 'V_median',\n",
      "       'W_median', 'X_mad', 'Y_mad', 'Z_mad', 'U_mad', 'V_mad', 'W_mad',\n",
      "       'X_p2.5', 'Y_p2.5', 'Z_p2.5', 'U_p2.5', 'V_p2.5', 'W_p2.5', 'X_p97.5',\n",
      "       'Y_p97.5', 'Z_p97.5', 'U_p97.5', 'V_p97.5', 'W_p97.5'],\n",
      "      dtype='object')\n"
     ]
    }
   ],
   "source": [
    "sampled_cluster.add_median()                    # the median of all sampled values for each position/ velocity per timestep\n",
    "sampled_cluster.add_mad()                       # the median absolut deviation\n",
    "sampled_cluster.add_percentile((2.5, 97.5))     # the 2.5 and 97.5 percentiles\n",
    "print(sampled_cluster.summary_dataframe.columns)"
   ],
   "metadata": {
    "collapsed": false,
    "ExecuteTime": {
     "end_time": "2024-01-30T14:51:22.445925Z",
     "start_time": "2024-01-30T14:51:22.163979Z"
    }
   }
  },
  {
   "cell_type": "markdown",
   "source": [
    "After adding the intended averages and uncertainties they can easily be saved as \\*.csv (default) or \\*.fits files."
   ],
   "metadata": {
    "collapsed": false
   }
  },
  {
   "cell_type": "code",
   "execution_count": 18,
   "outputs": [],
   "source": [
    "sampled_cluster.save_table('Cluster_IntegratedOrbits.csv')"
   ],
   "metadata": {
    "collapsed": false,
    "ExecuteTime": {
     "end_time": "2024-01-30T14:51:22.454982Z",
     "start_time": "2024-01-30T14:51:22.448187Z"
    }
   }
  },
  {
   "cell_type": "markdown",
   "source": [
    "This works similarly for the `Stars` class that allows for orbit sampling from a normal distribution based on measurement value and uncertainty."
   ],
   "metadata": {
    "collapsed": false
   }
  }
 ],
 "metadata": {
  "kernelspec": {
   "display_name": "Python 3",
   "language": "python",
   "name": "python3"
  },
  "language_info": {
   "codemirror_mode": {
    "name": "ipython",
    "version": 2
   },
   "file_extension": ".py",
   "mimetype": "text/x-python",
   "name": "python",
   "nbconvert_exporter": "python",
   "pygments_lexer": "ipython2",
   "version": "2.7.6"
  }
 },
 "nbformat": 4,
 "nbformat_minor": 0
}
